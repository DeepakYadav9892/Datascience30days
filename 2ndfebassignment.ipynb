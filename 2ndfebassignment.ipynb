{
 "cells": [
  {
   "cell_type": "markdown",
   "metadata": {},
   "source": [
    "Q1. When to Use a for Loop and a while Loop?\n",
    "\n",
    "    Use for loop when the number of iterations is known beforehead.\n",
    "    Use while loop when the number of iterations is not known in advance and depends on a condition."
   ]
  },
  {
   "cell_type": "code",
   "execution_count": 1,
   "metadata": {},
   "outputs": [
    {
     "name": "stdout",
     "output_type": "stream",
     "text": [
      "1\n",
      "2\n",
      "3\n",
      "4\n",
      "5\n"
     ]
    }
   ],
   "source": [
    "# Print numbers from 1 to 5 using a for loop\n",
    "for i in range(1, 6):\n",
    "    print(i)\n"
   ]
  },
  {
   "cell_type": "code",
   "execution_count": 2,
   "metadata": {},
   "outputs": [
    {
     "name": "stdout",
     "output_type": "stream",
     "text": [
      "1\n",
      "2\n",
      "3\n",
      "4\n",
      "5\n"
     ]
    }
   ],
   "source": [
    "# Print numbers from 1 to 5 using a while loop\n",
    "num = 1\n",
    "while num <= 5:\n",
    "    print(num)\n",
    "    num += 1\n"
   ]
  },
  {
   "cell_type": "markdown",
   "metadata": {},
   "source": [
    "Q2. Python Program for Sum and Product of First 10 Natural Numbers"
   ]
  },
  {
   "cell_type": "code",
   "execution_count": 3,
   "metadata": {},
   "outputs": [
    {
     "name": "stdout",
     "output_type": "stream",
     "text": [
      "Sum of first 10 natural numbers: 55\n",
      "Product of first 10 natural numbers: 3628800\n"
     ]
    }
   ],
   "source": [
    "sum_natural = 0\n",
    "product_natural = 1\n",
    "\n",
    "for i in range(1, 11):\n",
    "    sum_natural += i\n",
    "    product_natural *= i\n",
    "\n",
    "print(\"Sum of first 10 natural numbers:\", sum_natural)\n",
    "print(\"Product of first 10 natural numbers:\", product_natural)\n"
   ]
  },
  {
   "cell_type": "code",
   "execution_count": null,
   "metadata": {},
   "outputs": [
    {
     "name": "stdout",
     "output_type": "stream",
     "text": [
      "Sum of first 10 natural numbers: 55\n",
      "Product of first 10 natural numbers: 3628800\n"
     ]
    }
   ],
   "source": [
    "##Using whileloop \n",
    "sum_natural = 0\n",
    "product_natural = 1\n",
    "num = 1\n",
    "\n",
    "while num <= 10:\n",
    "    sum_natural += num\n",
    "    product_natural *= num\n",
    "    num += 1\n",
    "\n",
    "print(\"Sum of first 10 natural numbers:\", sum_natural)\n",
    "print(\"Product of first 10 natural numbers:\", product_natural)\n"
   ]
  },
  {
   "cell_type": "markdown",
   "metadata": {},
   "source": [
    "Q3. Electricity Bill Calculation"
   ]
  },
  {
   "cell_type": "code",
   "execution_count": null,
   "metadata": {},
   "outputs": [],
   "source": [
    "# Take user input for electricity consumption\n",
    "units = int(input(\"Enter electricity units consumed: \"))\n",
    "bill = 0\n",
    "\n",
    "if units <= 100:\n",
    "    bill = units * 4.5\n",
    "elif units <= 200:\n",
    "    bill = (100 * 4.5) + (units - 100) * 6\n",
    "elif units <= 300:\n",
    "    bill = (100 * 4.5) + (100 * 6) + (units - 200) * 10\n",
    "else:\n",
    "    bill = (100 * 4.5) + (100 * 6) + (100 * 10) + (units - 300) * 20\n",
    "\n",
    "print(f\"Total electricity bill: Rs. {bill}\")\n"
   ]
  },
  {
   "cell_type": "markdown",
   "metadata": {},
   "source": [
    "Q4. Cube Calculation and Filtering"
   ]
  },
  {
   "cell_type": "code",
   "execution_count": null,
   "metadata": {},
   "outputs": [],
   "source": [
    "# Creating a list from 1 to 100\n",
    "numbers = list(range(1, 101))\n",
    "filtered_numbers = []\n",
    "\n",
    "# Using for loop\n",
    "for num in numbers:\n",
    "    cube = num ** 3\n",
    "    if cube % 4 == 0 or cube % 5 == 0:\n",
    "        filtered_numbers.append(num)\n",
    "\n",
    "print(\"Numbers whose cube is divisible by 4 or 5:\", filtered_numbers)\n",
    "\n",
    "# Using while loop\n",
    "num = 1\n",
    "filtered_numbers_while = []\n",
    "\n",
    "while num <= 100:\n",
    "    cube = num ** 3\n",
    "    if cube % 4 == 0 or cube % 5 == 0:\n",
    "        filtered_numbers_while.append(num)\n",
    "    num += 1\n",
    "\n",
    "print(\"Numbers whose cube is divisible by 4 or 5 (while loop):\", filtered_numbers_while)\n"
   ]
  },
  {
   "cell_type": "code",
   "execution_count": null,
   "metadata": {},
   "outputs": [],
   "source": []
  }
 ],
 "metadata": {
  "kernelspec": {
   "display_name": "Python 3",
   "language": "python",
   "name": "python3"
  },
  "language_info": {
   "codemirror_mode": {
    "name": "ipython",
    "version": 3
   },
   "file_extension": ".py",
   "mimetype": "text/x-python",
   "name": "python",
   "nbconvert_exporter": "python",
   "pygments_lexer": "ipython3",
   "version": "3.12.1"
  }
 },
 "nbformat": 4,
 "nbformat_minor": 2
}
