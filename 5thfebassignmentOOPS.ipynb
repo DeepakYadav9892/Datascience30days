{
 "cells": [
  {
   "cell_type": "markdown",
   "metadata": {},
   "source": []
  },
  {
   "cell_type": "markdown",
   "metadata": {},
   "source": [
    "Q1. Explain Class and Object with respect to Object-Oriented Programming. Give a suitable example."
   ]
  },
  {
   "cell_type": "markdown",
   "metadata": {},
   "source": [
    "Q1. Explain Class and Object with respect to Object-Oriented Programming. Give a suitable example."
   ]
  },
  {
   "cell_type": "markdown",
   "metadata": {},
   "source": [
    "Class:\n",
    "\n",
    "A class is a blueprint or template for creating objects. It defines attributes (variables) and behaviors (methods) that objects of that class will have.\n",
    "Object:\n",
    "\n",
    "An object is an instance of a class. It represents a real-world entity and has a unique identity, state (attributes), and behavior (methods).\n",
    "Example:"
   ]
  },
  {
   "cell_type": "code",
   "execution_count": 1,
   "metadata": {},
   "outputs": [
    {
     "name": "stdout",
     "output_type": "stream",
     "text": [
      "Car: Toyota Camry, Year: 2022\n",
      "Car: Honda Civic, Year: 2021\n"
     ]
    }
   ],
   "source": [
    "class Car:\n",
    "    def __init__(self, brand, model, year):\n",
    "        self.brand = brand\n",
    "        self.model = model\n",
    "        self.year = year\n",
    "    \n",
    "    def display_info(self):\n",
    "        print(f\"Car: {self.brand} {self.model}, Year: {self.year}\")\n",
    "\n",
    "# Creating objects\n",
    "car1 = Car(\"Toyota\", \"Camry\", 2022)\n",
    "car2 = Car(\"Honda\", \"Civic\", 2021)\n",
    "\n",
    "car1.display_info()  # Output: Car: Toyota Camry, Year: 2022\n",
    "car2.display_info()  # Output: Car: Honda Civic, Year: 2021\n"
   ]
  },
  {
   "cell_type": "markdown",
   "metadata": {},
   "source": [
    "Q2. Name the four pillars of OOPs.\n",
    "\n",
    "The four pillars of Object-Oriented Programming (OOPs) are:\n",
    "\n",
    "    Encapsulation → Wrapping data and methods together inside a class to protect data.\n",
    "    Abstraction → Hiding implementation details and showing only the essential features.\n",
    "    Inheritance → Allowing a class to derive properties and behaviors from another class.\n",
    "    Polymorphism → Using a single function/method in different ways (e.g., method overloading & overriding)."
   ]
  },
  {
   "cell_type": "markdown",
   "metadata": {},
   "source": [
    "Q3. Explain why the __init__() function is used. Give a suitable example."
   ]
  },
  {
   "cell_type": "code",
   "execution_count": 2,
   "metadata": {},
   "outputs": [
    {
     "name": "stdout",
     "output_type": "stream",
     "text": [
      "Student Name: Alice, Age: 20\n"
     ]
    }
   ],
   "source": [
    "class Student:\n",
    "    def __init__(self, name, age):\n",
    "        self.name = name\n",
    "        self.age = age\n",
    "\n",
    "    def show_details(self):\n",
    "        print(f\"Student Name: {self.name}, Age: {self.age}\")\n",
    "\n",
    "# Creating an object\n",
    "student1 = Student(\"Alice\", 20)\n",
    "student1.show_details()  # Output: Student Name: Alice, Age: 20\n"
   ]
  },
  {
   "cell_type": "markdown",
   "metadata": {},
   "source": [
    "Q4. Why self is used in OOPs?\n",
    "\n",
    "    self refers to the current instance of the class.\n",
    "    It allows access to the attributes and methods of the class.\n",
    "    It must be the first parameter in instance methods "
   ]
  },
  {
   "cell_type": "code",
   "execution_count": 3,
   "metadata": {},
   "outputs": [
    {
     "name": "stdout",
     "output_type": "stream",
     "text": [
      "Hello, my name is John\n"
     ]
    }
   ],
   "source": [
    "class Person:\n",
    "    def __init__(self, name):\n",
    "        self.name = name  # self.name refers to the object's name\n",
    "\n",
    "    def greet(self):\n",
    "        print(f\"Hello, my name is {self.name}\")\n",
    "\n",
    "# Creating an object\n",
    "person1 = Person(\"John\")\n",
    "person1.greet()  # Output: Hello, my name is John\n"
   ]
  },
  {
   "cell_type": "markdown",
   "metadata": {},
   "source": [
    "Q5. What is inheritance? Give an example for each type of inheritance.\n",
    "Definition:\n",
    "\n",
    "Inheritance allows a child class to acquire properties and behaviors from a parent class, promoting code reusability.\n",
    "Types of Inheritance:\n",
    "\n",
    "1️ Single Inheritance → One child class inherits from a single parent class."
   ]
  },
  {
   "cell_type": "code",
   "execution_count": 4,
   "metadata": {},
   "outputs": [
    {
     "name": "stdout",
     "output_type": "stream",
     "text": [
      "Animals make different sounds.\n",
      "Dog barks.\n"
     ]
    }
   ],
   "source": [
    "class Animal:\n",
    "    def sound(self):\n",
    "        print(\"Animals make different sounds.\")\n",
    "\n",
    "class Dog(Animal):\n",
    "    def bark(self):\n",
    "        print(\"Dog barks.\")\n",
    "\n",
    "dog = Dog()\n",
    "dog.sound()  # Output: Animals make different sounds.\n",
    "dog.bark()   # Output: Dog barks.\n"
   ]
  },
  {
   "cell_type": "markdown",
   "metadata": {},
   "source": [
    "Multiple Inheritance → A child class inherits from multiple parent classes."
   ]
  },
  {
   "cell_type": "code",
   "execution_count": 5,
   "metadata": {},
   "outputs": [
    {
     "name": "stdout",
     "output_type": "stream",
     "text": [
      "Father is strong.\n",
      "Mother is caring.\n",
      "Child has both traits.\n"
     ]
    }
   ],
   "source": [
    "class Father:\n",
    "    def father_traits(self):\n",
    "        print(\"Father is strong.\")\n",
    "\n",
    "class Mother:\n",
    "    def mother_traits(self):\n",
    "        print(\"Mother is caring.\")\n",
    "\n",
    "class Child(Father, Mother):\n",
    "    def child_traits(self):\n",
    "        print(\"Child has both traits.\")\n",
    "\n",
    "child = Child()\n",
    "child.father_traits()  # Output: Father is strong.\n",
    "child.mother_traits()  # Output: Mother is caring.\n",
    "child.child_traits()   # Output: Child has both traits.\n"
   ]
  },
  {
   "cell_type": "markdown",
   "metadata": {},
   "source": [
    "Multilevel Inheritance → A class inherits from a child class (chain-like structure).\n",
    "\n",
    "class Grandparent:"
   ]
  },
  {
   "cell_type": "code",
   "execution_count": 6,
   "metadata": {},
   "outputs": [
    {
     "name": "stdout",
     "output_type": "stream",
     "text": [
      "Grandparents are wise.\n",
      "Parents are responsible.\n",
      "Children are curious.\n"
     ]
    }
   ],
   "source": [
    "class Grandparent:\n",
    "    def grandparent_traits(self):\n",
    "        print(\"Grandparents are wise.\")\n",
    "\n",
    "class Parent(Grandparent):\n",
    "    def parent_traits(self):\n",
    "        print(\"Parents are responsible.\")\n",
    "\n",
    "class Child(Parent):\n",
    "    def child_traits(self):\n",
    "        print(\"Children are curious.\")\n",
    "\n",
    "child = Child()\n",
    "child.grandparent_traits()  # Output: Grandparents are wise.\n",
    "child.parent_traits()       # Output: Parents are responsible.\n",
    "child.child_traits()        # Output: Children are curious.\n"
   ]
  },
  {
   "cell_type": "markdown",
   "metadata": {},
   "source": [
    " Hierarchical Inheritance → One parent class has multiple child classes.\n",
    "\n"
   ]
  },
  {
   "cell_type": "code",
   "execution_count": 7,
   "metadata": {},
   "outputs": [
    {
     "name": "stdout",
     "output_type": "stream",
     "text": [
      "This is a vehicle.\n",
      "Cars have 4 wheels.\n",
      "This is a vehicle.\n",
      "Bikes have 2 wheels.\n"
     ]
    }
   ],
   "source": [
    "class Vehicle:\n",
    "    def type(self):\n",
    "        print(\"This is a vehicle.\")\n",
    "\n",
    "class Car(Vehicle):\n",
    "    def wheels(self):\n",
    "        print(\"Cars have 4 wheels.\")\n",
    "\n",
    "class Bike(Vehicle):\n",
    "    def wheels(self):\n",
    "        print(\"Bikes have 2 wheels.\")\n",
    "\n",
    "car = Car()\n",
    "bike = Bike()\n",
    "\n",
    "car.type()    # Output: This is a vehicle.\n",
    "car.wheels()  # Output: Cars have 4 wheels.\n",
    "\n",
    "bike.type()   # Output: This is a vehicle.\n",
    "bike.wheels() # Output: Bikes have 2 wheels.\n"
   ]
  },
  {
   "cell_type": "markdown",
   "metadata": {},
   "source": [
    "Hybrid Inheritance → A combination of two or more types of inheritance."
   ]
  },
  {
   "cell_type": "code",
   "execution_count": 8,
   "metadata": {},
   "outputs": [
    {
     "name": "stdout",
     "output_type": "stream",
     "text": [
      "Class A method.\n",
      "Class B method.\n",
      "Class C method.\n",
      "Class D method.\n"
     ]
    }
   ],
   "source": [
    "class A:\n",
    "    def methodA(self):\n",
    "        print(\"Class A method.\")\n",
    "\n",
    "class B(A):\n",
    "    def methodB(self):\n",
    "        print(\"Class B method.\")\n",
    "\n",
    "class C(A):\n",
    "    def methodC(self):\n",
    "        print(\"Class C method.\")\n",
    "\n",
    "class D(B, C):  # Inheriting from both B and C (Hybrid)\n",
    "    def methodD(self):\n",
    "        print(\"Class D method.\")\n",
    "\n",
    "d = D()\n",
    "d.methodA()  # Output: Class A method.\n",
    "d.methodB()  # Output: Class B method.\n",
    "d.methodC()  # Output: Class C method.\n",
    "d.methodD()  # Output: Class D method.\n"
   ]
  },
  {
   "cell_type": "code",
   "execution_count": null,
   "metadata": {},
   "outputs": [],
   "source": []
  }
 ],
 "metadata": {
  "kernelspec": {
   "display_name": "Python 3",
   "language": "python",
   "name": "python3"
  },
  "language_info": {
   "codemirror_mode": {
    "name": "ipython",
    "version": 3
   },
   "file_extension": ".py",
   "mimetype": "text/x-python",
   "name": "python",
   "nbconvert_exporter": "python",
   "pygments_lexer": "ipython3",
   "version": "3.12.1"
  }
 },
 "nbformat": 4,
 "nbformat_minor": 2
}
